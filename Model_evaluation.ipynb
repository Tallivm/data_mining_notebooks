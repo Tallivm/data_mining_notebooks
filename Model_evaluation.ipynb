{
  "nbformat": 4,
  "nbformat_minor": 0,
  "metadata": {
    "colab": {
      "name": "Model_evaluation.ipynb",
      "provenance": [],
      "collapsed_sections": [
        "5ukSyARGhoYz",
        "XaW7YYijidQP",
        "jKwuZ36eih9L",
        "HZDX2s_LtOoN"
      ],
      "authorship_tag": "ABX9TyNSrnSiOrNRaLQ+MXuM+Wdz",
      "include_colab_link": true
    },
    "kernelspec": {
      "name": "python3",
      "display_name": "Python 3"
    }
  },
  "cells": [
    {
      "cell_type": "markdown",
      "metadata": {
        "id": "view-in-github",
        "colab_type": "text"
      },
      "source": [
        "<a href=\"https://colab.research.google.com/github/Tallivm/data_mining_notebooks/blob/main/Model_evaluation.ipynb\" target=\"_parent\"><img src=\"https://colab.research.google.com/assets/colab-badge.svg\" alt=\"Open In Colab\"/></a>"
      ]
    },
    {
      "cell_type": "markdown",
      "metadata": {
        "id": "rmsIsYiCJQ6k"
      },
      "source": [
        "# Imports"
      ]
    },
    {
      "cell_type": "code",
      "metadata": {
        "id": "1c_sYypAEi0X"
      },
      "source": [
        "# all imports in one place\n",
        "\n",
        "from sklearn import datasets\n",
        "from sklearn import metrics\n",
        "from sklearn.model_selection import KFold, cross_val_score, train_test_split\n",
        "from sklearn.linear_model import LogisticRegression, LinearRegression\n",
        "from sklearn.ensemble import RandomForestClassifier\n",
        "from sklearn.preprocessing import StandardScaler\n",
        "from sklearn.pipeline import make_pipeline\n",
        "from sklearn.dummy import DummyRegressor, DummyClassifier\n",
        "from sklearn.datasets import make_classification\n",
        "from sklearn.metrics import roc_curve, roc_auc_score, confusion_matrix\n",
        "\n",
        "import numpy as np\n",
        "import pandas as pd\n",
        "import matplotlib.pyplot as plt\n",
        "import seaborn as sns"
      ],
      "execution_count": 1,
      "outputs": []
    },
    {
      "cell_type": "markdown",
      "metadata": {
        "id": "uT-NJ043Yu5U"
      },
      "source": [
        "# Cross-validation\n",
        "\n",
        "A technique used to ensure that we will get similar results with most of data split and random seed variants."
      ]
    },
    {
      "cell_type": "code",
      "metadata": {
        "id": "1fWHMyYVbLph"
      },
      "source": [
        "# load the data\n",
        "digits = datasets.load_digits()\n",
        "# prepare features and target vectors\n",
        "features = digits.data\n",
        "target = digits.target\n",
        "\n",
        "# Create standardizer\n",
        "standardizer = StandardScaler()\n",
        "# Create model object\n",
        "logit = LogisticRegression()\n",
        "# Create a pipeline that standardizes the data, then runs selected model\n",
        "pipeline = make_pipeline(standardizer, logit)"
      ],
      "execution_count": 2,
      "outputs": []
    },
    {
      "cell_type": "markdown",
      "metadata": {
        "id": "t_o4HCwgZ7DX"
      },
      "source": [
        "## What is KFold?\n",
        "\n",
        "The data is splitted into **k** folds (parts), and **k-1** folds are chosen as a train set, whereas the last fold goes as a test set. The training will be repeated **k** times for each fold as a test set.\n",
        "\n",
        "\n",
        "If you're doing classification and your data is imbalanced, it is better to use `StratifiedKFold`, as it not only splits to **k** folds, but makes it so that folds would have the same distribution of classes."
      ]
    },
    {
      "cell_type": "code",
      "metadata": {
        "id": "GZRh5YTNZ5fR"
      },
      "source": [
        "# Create k-Fold cross-validation\n",
        "kf = KFold(n_splits=10, shuffle=True, random_state=1)"
      ],
      "execution_count": 3,
      "outputs": []
    },
    {
      "cell_type": "code",
      "metadata": {
        "id": "ZDE_wgSTZYSO"
      },
      "source": [
        "# Conduct k-fold cross-validation\n",
        "cv_results = cross_val_score(pipeline,            # Pipeline\n",
        "                             features,            # Feature matrix\n",
        "                             target,              # Target vector\n",
        "                             cv=kf,               # Cross-validation technique\n",
        "                             scoring=\"accuracy\",  # Loss function\n",
        "                             n_jobs=-1)           # Use all CPU scores"
      ],
      "execution_count": 4,
      "outputs": []
    },
    {
      "cell_type": "code",
      "metadata": {
        "colab": {
          "base_uri": "https://localhost:8080/",
          "height": 0
        },
        "id": "EIulRPxZbR8M",
        "outputId": "a000adb5-b687-4c6d-9519-f82f41e8b9c4"
      },
      "source": [
        "plt.plot(cv_results);"
      ],
      "execution_count": 5,
      "outputs": [
        {
          "output_type": "display_data",
          "data": {
            "image/png": "[encoded data removed]",
            "text/plain": [
              "<Figure size 432x288 with 1 Axes>"
            ]
          },
          "metadata": {
            "tags": [],
            "needs_background": "light"
          }
        }
      ]
    },
    {
      "cell_type": "markdown",
      "metadata": {
        "id": "5ukSyARGhoYz"
      },
      "source": [
        "# Baseline Models\n",
        "\n",
        "Dummy models predict the same number for every target. This works as a simulation of \"naive\" predictions."
      ]
    },
    {
      "cell_type": "markdown",
      "metadata": {
        "id": "XaW7YYijidQP"
      },
      "source": [
        "## Dummy for Regression"
      ]
    },
    {
      "cell_type": "code",
      "metadata": {
        "colab": {
          "base_uri": "https://localhost:8080/"
        },
        "id": "4zeW2aqChmfI",
        "outputId": "d2bb0e0a-cbfa-47ad-c997-fe503af867c1"
      },
      "source": [
        "# Load data\n",
        "boston = datasets.load_boston()\n",
        "features, target = boston.data, boston.target\n",
        "# Make test and training split\n",
        "features_train, features_test, target_train, target_test = train_test_split(features, target, random_state=0)\n",
        "# Create and \"train\" a dummy regressor\n",
        "dummy = DummyRegressor(strategy='mean')\n",
        "dummy.fit(features_train, target_train)\n",
        "# Get R-squared score\n",
        "dummy_score = dummy.score(features_test, target_test)\n",
        "\n",
        "# Train (for example) simple linear regression model\n",
        "ols = LinearRegression()\n",
        "ols.fit(features_train, target_train)\n",
        "# Get R-squared score\n",
        "ols_score = ols.score(features_test, target_test)\n",
        "\n",
        "# Compare scores\n",
        "print(f'Baseline R-squared: {dummy_score}\\nOLS R-squared: {ols_score}')"
      ],
      "execution_count": 6,
      "outputs": [
        {
          "output_type": "stream",
          "text": [
            "Baseline R-squared: -0.001119359203955339\n",
            "OLS R-squared: 0.635463843320211\n"
          ],
          "name": "stdout"
        }
      ]
    },
    {
      "cell_type": "markdown",
      "metadata": {
        "id": "jKwuZ36eih9L"
      },
      "source": [
        "## Dummy for Classification"
      ]
    },
    {
      "cell_type": "code",
      "metadata": {
        "colab": {
          "base_uri": "https://localhost:8080/"
        },
        "id": "kcT2_KW3inYA",
        "outputId": "6f560051-6eda-4ce2-d8e8-6f457ae3beef"
      },
      "source": [
        "# Load data\n",
        "iris = datasets.load_iris()\n",
        "features, target = iris.data, iris.target\n",
        "# Split into training and test set\n",
        "features_train, features_test, target_train, target_test = train_test_split(features, target, random_state=0)\n",
        "# Create and \"train\" a dummy classifier\n",
        "dummy = DummyClassifier(strategy='uniform', random_state=1) # for unbalanced data, try: strategy='stratified'\n",
        "dummy.fit(features_train, target_train)\n",
        "\n",
        "# Get accuracy score\n",
        "dummy_score = dummy.score(features_test, target_test)\n",
        "\n",
        "# Create and train a chosen classifier\n",
        "classifier = RandomForestClassifier()\n",
        "classifier.fit(features_train, target_train)\n",
        "# Get accuracy score\n",
        "class_score = classifier.score(features_test, target_test)\n",
        "\n",
        "# Compare scores\n",
        "print(f'Baseline accuracy: {dummy_score}\\nRandomForest accuracy: {class_score}')"
      ],
      "execution_count": 7,
      "outputs": [
        {
          "output_type": "stream",
          "text": [
            "Baseline accuracy: 0.42105263157894735\n",
            "RandomForest accuracy: 0.9736842105263158\n"
          ],
          "name": "stdout"
        }
      ]
    },
    {
      "cell_type": "markdown",
      "metadata": {
        "id": "HZDX2s_LtOoN"
      },
      "source": [
        "# Scores to evaluate classification\n",
        "\n",
        "Accuracy, precision, recall, F1\n",
        "\n"
      ]
    },
    {
      "cell_type": "code",
      "metadata": {
        "colab": {
          "base_uri": "https://localhost:8080/"
        },
        "id": "gcOkmWT5jQL3",
        "outputId": "c642cd64-b34b-48ac-90a0-65c01245c161"
      },
      "source": [
        "\n",
        "# Generate features matrix and target vector\n",
        "X, y = make_classification(n_samples = 10000,     # number of samples\n",
        "                           n_features = 5,        # number of features\n",
        "                           n_informative = 3,     # number of informative features\n",
        "                           n_redundant = 0,       # number of redundant features\n",
        "                           n_classes = 2,         # number of classes\n",
        "                           random_state = 1,  \n",
        "                           weights=(.1, .9))      # distribution of classes (the last weight can be ommited)\n",
        "\n",
        "# Create logistic regression\n",
        "logit = LogisticRegression()\n",
        "\n",
        "print('Accuracy:')\n",
        "print('Proportion of observations predicted correctly')\n",
        "print(cross_val_score(logit, X, y, scoring=\"accuracy\"))\n",
        "print('-'*20)\n",
        "print('Precision:')\n",
        "print('Proportion of every observation predicted to be positive that is actually positive')\n",
        "print(cross_val_score(logit, X, y, scoring=\"precision\"))\n",
        "print('-'*20)\n",
        "print('Recall:')\n",
        "print('Proportion of every positive observation that is truly positive')\n",
        "print(cross_val_score(logit, X, y, scoring=\"recall\"))\n",
        "print('-'*20)\n",
        "print('F1:')\n",
        "print('The harmonic mean of precision and recall')\n",
        "print('Macro:', cross_val_score(logit, X, y, scoring=\"f1_macro\"))\n",
        "print('Micro:', cross_val_score(logit, X, y, scoring=\"f1_micro\"))\n",
        "print('Weighted:', cross_val_score(logit, X, y, scoring=\"f1_weighted\"))"
      ],
      "execution_count": 8,
      "outputs": [
        {
          "output_type": "stream",
          "text": [
            "Accuracy:\n",
            "Proportion of observations predicted correctly\n",
            "[0.9715 0.967  0.968  0.9665 0.9705]\n",
            "--------------------\n",
            "Precision:\n",
            "Proportion of every observation predicted to be positive that is actually positive\n",
            "[0.97480832 0.97468354 0.97945586 0.97205479 0.97476687]\n",
            "--------------------\n",
            "Recall:\n",
            "Proportion of every positive observation that is truly positive\n",
            "[0.99385818 0.98883305 0.98492462 0.99106145 0.99273743]\n",
            "--------------------\n",
            "F1:\n",
            "The harmonic mean of precision and recall\n",
            "Macro: [0.91770801 0.90666999 0.91265994 0.90372007 0.91560765]\n",
            "Micro: [0.9715 0.967  0.968  0.9665 0.9705]\n",
            "Weighted: [0.97033567 0.96602451 0.96765239 0.96513944 0.96937697]\n"
          ],
          "name": "stdout"
        }
      ]
    },
    {
      "cell_type": "markdown",
      "metadata": {
        "id": "VunuGIsK0a2e"
      },
      "source": [
        "F1:\n",
        "\n",
        "**macro**\n",
        "Calculate mean of metric scores for each class,\n",
        "weighting each class equally.\n",
        "\n",
        "**micro**\n",
        "Calculate mean of metric scores for each observation-\n",
        "class combination.\n",
        "\n",
        "**weighted**\n",
        "Calculate mean of metric scores for each class,\n",
        "weighting each class proportional to its size in the data.\n"
      ]
    },
    {
      "cell_type": "markdown",
      "metadata": {
        "id": "yPcWfB4aJpNw"
      },
      "source": [
        "Precision and recall can be used in **multiclass classification.** In this way, we don't have Negatives at all, we only have True Positives and False Positives. \n",
        "Precision is calculated as the sum of true positives across all classes divided by the sum of true positives and false positives across all classes.\n",
        "Recall is calculated as the sum of true positives across all classes divided by the sum of true positives and false negatives across all classes.\n",
        "\n",
        "More on that: https://machinelearningmastery.com/precision-recall-and-f-measure-for-imbalanced-classification/"
      ]
    },
    {
      "cell_type": "markdown",
      "metadata": {
        "id": "ckEKVbtmtUp3"
      },
      "source": [
        "# ROC\n",
        "\n",
        "Works only for binary classification. Calculates True Positive Rate (TPR, ) and False Positive Rate (FPR)."
      ]
    },
    {
      "cell_type": "code",
      "metadata": {
        "colab": {
          "base_uri": "https://localhost:8080/",
          "height": 295
        },
        "id": "LViC_p3ijQJe",
        "outputId": "fba0b5ca-e28e-4735-ea1f-ebc8a8bddfab"
      },
      "source": [
        "# Create feature matrix and target vector\n",
        "features, target = make_classification(n_samples=10000,\n",
        "                                       n_features=10,\n",
        "                                       n_classes=2,\n",
        "                                       n_informative=3,\n",
        "                                       random_state=3)\n",
        "\n",
        "features_train, features_test, target_train, target_test = train_test_split(features, target, test_size=0.1, random_state=1)\n",
        "\n",
        "# create and train a model\n",
        "logit = LogisticRegression()\n",
        "logit.fit(features_train, target_train)\n",
        "\n",
        "# Get predicted probabilities\n",
        "target_probabilities = logit.predict_proba(features_test)[:,1]\n",
        "# Create true and false positive rates\n",
        "false_positive_rate, true_positive_rate, threshold = roc_curve(target_test, target_probabilities)\n",
        "# Plot ROC curve\n",
        "plt.title(\"Receiver Operating Characteristic\")\n",
        "plt.plot(false_positive_rate, true_positive_rate)\n",
        "plt.plot([0, 1], ls=\"--\")                                     # AUC = 0.5\n",
        "plt.plot([0, 0], [1, 0] , c=\".7\"), plt.plot([1, 1] , c=\".7\")  # AUC = 1.0\n",
        "plt.ylabel(\"True Positive Rate\")\n",
        "plt.xlabel(\"False Positive Rate\")\n",
        "plt.show()\n"
      ],
      "execution_count": 9,
      "outputs": [
        {
          "output_type": "display_data",
          "data": {
            "image/png": "[encoded data removed]",
            "text/plain": [
              "<Figure size 432x288 with 1 Axes>"
            ]
          },
          "metadata": {
            "tags": [],
            "needs_background": "light"
          }
        }
      ]
    },
    {
      "cell_type": "markdown",
      "metadata": {
        "id": "bjgjZlC1H7W0"
      },
      "source": [
        "Any point on the orange line corresponds to a situation where TPR is equal to FPR. The bigger $\\frac{TPR}{FPR}$, the better. Then, the farrest blue point from the orange line should be the best threshold.\n",
        "\n",
        "What is a **threshold**? If we have a threshold $a$ and predicted probability $p$, then if $p=<a$, the predicted class is 0, and if $p>a$, the predicted class is 1.  \n",
        "\n",
        "We can choose the threshold we need for TPR and FPR rates best suited for our needs. ROC curve does not consist of all samples; only some subset is chosen so the curve would be lighter. In this example, we had 1000 test samples, but only 236 predictions going out from the `roc_curve` function.\n",
        "\n",
        "More on that: https://www.analyticsvidhya.com/blog/2020/06/auc-roc-curve-machine-learning/"
      ]
    },
    {
      "cell_type": "code",
      "metadata": {
        "colab": {
          "base_uri": "https://localhost:8080/"
        },
        "id": "jLig2CzMjQHU",
        "outputId": "585973d5-c160-4040-d655-c7e9a7a4e10d"
      },
      "source": [
        "\n",
        "N=len(true_positive_rate)//2\n",
        "\n",
        "print(\"Threshold:\", threshold[N])\n",
        "print(\"True Positive Rate:\", true_positive_rate[N])\n",
        "print(\"False Positive Rate:\", false_positive_rate[N])"
      ],
      "execution_count": 10,
      "outputs": [
        {
          "output_type": "stream",
          "text": [
            "Threshold: 0.5211271935759425\n",
            "True Positive Rate: 0.8142857142857143\n",
            "False Positive Rate: 0.15490196078431373\n"
          ],
          "name": "stdout"
        }
      ]
    },
    {
      "cell_type": "markdown",
      "metadata": {
        "id": "czwmg1J9tZ0N"
      },
      "source": [
        "# Confusion matrix"
      ]
    },
    {
      "cell_type": "code",
      "metadata": {
        "colab": {
          "base_uri": "https://localhost:8080/",
          "height": 0
        },
        "id": "yZswvq-kjP2W",
        "outputId": "71d37478-6ccc-46b3-e146-1114908b3eb4"
      },
      "source": [
        "# create synthetic data\n",
        "X, y = make_classification(n_samples = 500,\n",
        "                           n_features = 3,\n",
        "                           n_informative = 3,\n",
        "                           n_redundant = 0,\n",
        "                           n_classes = 3,\n",
        "                           random_state = 1,\n",
        "                           weights=(.1, .2))\n",
        "class_names = ['A','B','C']\n",
        "\n",
        "features_train, features_test, target_train, target_test = train_test_split(X, y, random_state=1)\n",
        "\n",
        "# create and train a model\n",
        "classifier = LogisticRegression()\n",
        "target_predicted = classifier.fit(features_train, target_train).predict(features_test)\n",
        "\n",
        "# Create confusion matrix\n",
        "matrix = confusion_matrix(target_test, target_predicted)\n",
        "\n",
        "# plotting:\n",
        "# Create pandas dataframe for the heatmap\n",
        "dataframe = pd.DataFrame(matrix, index=class_names, columns=class_names)\n",
        "# Create heatmap\n",
        "sns.heatmap(dataframe, annot=True, cbar=None, cmap=\"Blues\")\n",
        "plt.title(\"Confusion Matrix\"), plt.tight_layout()\n",
        "plt.ylabel(\"True Class\"), plt.xlabel(\"Predicted Class\")\n",
        "plt.show()"
      ],
      "execution_count": 11,
      "outputs": [
        {
          "output_type": "display_data",
          "data": {
            "image/png": "[encoded data removed]",
            "text/plain": [
              "<Figure size 432x288 with 1 Axes>"
            ]
          },
          "metadata": {
            "tags": [],
            "needs_background": "light"
          }
        }
      ]
    }
  ]
}