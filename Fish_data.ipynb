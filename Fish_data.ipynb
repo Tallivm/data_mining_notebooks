{
  "nbformat": 4,
  "nbformat_minor": 0,
  "metadata": {
    "colab": {
      "name": "Fish_data.ipynb",
      "provenance": [],
      "collapsed_sections": [
        "vlTJyFZBlJgZ",
        "wnBzUciRlLtV",
        "VU-AA_RrrkTn",
        "uk3aS8p3scKb",
        "PaCdkP2qwD2b",
        "RgpDnzY_sChw"
      ],
      "toc_visible": true,
      "authorship_tag": "ABX9TyPS4udUERIenHb5+4J0aPac",
      "include_colab_link": true
    },
    "kernelspec": {
      "name": "python3",
      "display_name": "Python 3"
    }
  },
  "cells": [
    {
      "cell_type": "markdown",
      "metadata": {
        "id": "view-in-github",
        "colab_type": "text"
      },
      "source": [
        "<a href=\"https://colab.research.google.com/github/Tallivm/data_mining_notebooks/blob/main/Fish_data.ipynb\" target=\"_parent\"><img src=\"https://colab.research.google.com/assets/colab-badge.svg\" alt=\"Open In Colab\"/></a>"
      ]
    },
    {
      "cell_type": "markdown",
      "metadata": {
        "id": "RG6Hrjl4Qoej"
      },
      "source": [
        "This notebook uses some custom files which are automatically downloaded using wget commands"
      ]
    },
    {
      "cell_type": "code",
      "metadata": {
        "id": "NZ1_AOY0EG3Q",
        "colab": {
          "base_uri": "https://localhost:8080/"
        },
        "outputId": "67ed960e-1b5f-4fef-d0f3-ba599079d2cf"
      },
      "source": [
        "!rm fish.csv fish_test.csv pretty_plots.py\n",
        "!wget -q 'https://raw.githubusercontent.com/VitaT/ML-python/main/data/fish.csv'\n",
        "!wget -q 'https://raw.githubusercontent.com/Tallivm/custom_modules/main/pretty_plots.py'"
      ],
      "execution_count": 1,
      "outputs": [
        {
          "output_type": "stream",
          "text": [
            "rm: cannot remove 'fish.csv': No such file or directory\n",
            "rm: cannot remove 'fish_test.csv': No such file or directory\n",
            "rm: cannot remove 'pretty_plots.py': No such file or directory\n"
          ],
          "name": "stdout"
        }
      ]
    },
    {
      "cell_type": "code",
      "metadata": {
        "id": "iu-ExFAkfqKf"
      },
      "source": [
        "import numpy as np\n",
        "np.random.seed(42) # sklearn uses random state of numpy\n",
        "import pandas as pd\n",
        "from sklearn import linear_model\n",
        "from sklearn.metrics import mean_squared_error, r2_score\n",
        "from sklearn.model_selection import train_test_split, KFold, cross_validate\n",
        "from sklearn.neighbors import KNeighborsRegressor\n",
        "from itertools import chain, combinations\n",
        "\n",
        "import matplotlib.pyplot as plt\n",
        "import pretty_plots as ppp"
      ],
      "execution_count": 2,
      "outputs": []
    },
    {
      "cell_type": "code",
      "metadata": {
        "colab": {
          "base_uri": "https://localhost:8080/",
          "height": 444
        },
        "id": "MMOLinGeie28",
        "outputId": "a24b408b-802d-4c09-9c77-3ebb4201ec68"
      },
      "source": [
        "df = pd.read_csv('fish.csv')\n",
        "print(ppp.txt_eff.BOLD + 'Missing values:' + ppp.txt_eff.END)\n",
        "print(df.isna().sum().to_string())\n",
        "print(ppp.txt_eff.BOLD + 'Types of data:' + ppp.txt_eff.END)\n",
        "print(df.dtypes.to_string())\n",
        "df.head(3)"
      ],
      "execution_count": 3,
      "outputs": [
        {
          "output_type": "stream",
          "text": [
            "\u001b[1mMissing values:\u001b[0m\n",
            "Species    0\n",
            "Weight     0\n",
            "Length1    0\n",
            "Length2    0\n",
            "Length3    0\n",
            "Height     0\n",
            "Width      0\n",
            "\u001b[1mTypes of data:\u001b[0m\n",
            "Species     object\n",
            "Weight     float64\n",
            "Length1    float64\n",
            "Length2    float64\n",
            "Length3    float64\n",
            "Height     float64\n",
            "Width      float64\n"
          ],
          "name": "stdout"
        },
        {
          "output_type": "execute_result",
          "data": {
            "text/html": [
              "<div>\n",
              "<style scoped>\n",
              "    .dataframe tbody tr th:only-of-type {\n",
              "        vertical-align: middle;\n",
              "    }\n",
              "\n",
              "    .dataframe tbody tr th {\n",
              "        vertical-align: top;\n",
              "    }\n",
              "\n",
              "    .dataframe thead th {\n",
              "        text-align: right;\n",
              "    }\n",
              "</style>\n",
              "<table border=\"1\" class=\"dataframe\">\n",
              "  <thead>\n",
              "    <tr style=\"text-align: right;\">\n",
              "      <th></th>\n",
              "      <th>Species</th>\n",
              "      <th>Weight</th>\n",
              "      <th>Length1</th>\n",
              "      <th>Length2</th>\n",
              "      <th>Length3</th>\n",
              "      <th>Height</th>\n",
              "      <th>Width</th>\n",
              "    </tr>\n",
              "  </thead>\n",
              "  <tbody>\n",
              "    <tr>\n",
              "      <th>0</th>\n",
              "      <td>Bream</td>\n",
              "      <td>242.0</td>\n",
              "      <td>23.2</td>\n",
              "      <td>25.4</td>\n",
              "      <td>30.0</td>\n",
              "      <td>11.5200</td>\n",
              "      <td>4.0200</td>\n",
              "    </tr>\n",
              "    <tr>\n",
              "      <th>1</th>\n",
              "      <td>Bream</td>\n",
              "      <td>290.0</td>\n",
              "      <td>24.0</td>\n",
              "      <td>26.3</td>\n",
              "      <td>31.2</td>\n",
              "      <td>12.4800</td>\n",
              "      <td>4.3056</td>\n",
              "    </tr>\n",
              "    <tr>\n",
              "      <th>2</th>\n",
              "      <td>Bream</td>\n",
              "      <td>340.0</td>\n",
              "      <td>23.9</td>\n",
              "      <td>26.5</td>\n",
              "      <td>31.1</td>\n",
              "      <td>12.3778</td>\n",
              "      <td>4.6961</td>\n",
              "    </tr>\n",
              "  </tbody>\n",
              "</table>\n",
              "</div>"
            ],
            "text/plain": [
              "  Species  Weight  Length1  Length2  Length3   Height   Width\n",
              "0   Bream   242.0     23.2     25.4     30.0  11.5200  4.0200\n",
              "1   Bream   290.0     24.0     26.3     31.2  12.4800  4.3056\n",
              "2   Bream   340.0     23.9     26.5     31.1  12.3778  4.6961"
            ]
          },
          "metadata": {
            "tags": []
          },
          "execution_count": 3
        }
      ]
    },
    {
      "cell_type": "markdown",
      "metadata": {
        "id": "vlTJyFZBlJgZ"
      },
      "source": [
        "# Regression"
      ]
    },
    {
      "cell_type": "markdown",
      "metadata": {
        "id": "KmjQU9LvG_Op"
      },
      "source": [
        "The data has a categorical column: **Species**. Dummies should be made.\n",
        "k new columns will be made, where k is number of unique species in data.\n",
        "We need k-1 columns, and usually the biggest group is dropped."
      ]
    },
    {
      "cell_type": "code",
      "metadata": {
        "colab": {
          "base_uri": "https://localhost:8080/",
          "height": 332
        },
        "id": "BAdgjOQVHA6B",
        "outputId": "ef0a013a-7d1b-45d1-fb13-28a8feab67bb"
      },
      "source": [
        "categorical = ['Species']\n",
        "groups_to_drop = []\n",
        "for col in categorical: \n",
        "  print(ppp.txt_eff.BOLD + f'{col}:' + ppp.txt_eff.END)\n",
        "  [print(f'\\t{item}: {len(df[df[col]==item])}') for item in df[col].unique()]\n",
        "  largest_group = df.groupby(col).size().idxmax()\n",
        "  groups_to_drop.append(col + '_' + largest_group)\n",
        "  print(f'Largest group: {largest_group}')\n",
        "xdata, ydata = df.drop(columns='Weight'), df['Weight']\n",
        "xdata = pd.get_dummies(xdata, columns=categorical).drop(columns=groups_to_drop)\n",
        "xdata.head(3)"
      ],
      "execution_count": 4,
      "outputs": [
        {
          "output_type": "stream",
          "text": [
            "\u001b[1mSpecies:\u001b[0m\n",
            "\tBream: 31\n",
            "\tRoach: 19\n",
            "\tWhitefish: 6\n",
            "\tParkki: 10\n",
            "\tPerch: 53\n",
            "\tPike: 16\n",
            "\tSmelt: 12\n",
            "Largest group: Perch\n"
          ],
          "name": "stdout"
        },
        {
          "output_type": "execute_result",
          "data": {
            "text/html": [
              "<div>\n",
              "<style scoped>\n",
              "    .dataframe tbody tr th:only-of-type {\n",
              "        vertical-align: middle;\n",
              "    }\n",
              "\n",
              "    .dataframe tbody tr th {\n",
              "        vertical-align: top;\n",
              "    }\n",
              "\n",
              "    .dataframe thead th {\n",
              "        text-align: right;\n",
              "    }\n",
              "</style>\n",
              "<table border=\"1\" class=\"dataframe\">\n",
              "  <thead>\n",
              "    <tr style=\"text-align: right;\">\n",
              "      <th></th>\n",
              "      <th>Length1</th>\n",
              "      <th>Length2</th>\n",
              "      <th>Length3</th>\n",
              "      <th>Height</th>\n",
              "      <th>Width</th>\n",
              "      <th>Species_Bream</th>\n",
              "      <th>Species_Parkki</th>\n",
              "      <th>Species_Pike</th>\n",
              "      <th>Species_Roach</th>\n",
              "      <th>Species_Smelt</th>\n",
              "      <th>Species_Whitefish</th>\n",
              "    </tr>\n",
              "  </thead>\n",
              "  <tbody>\n",
              "    <tr>\n",
              "      <th>0</th>\n",
              "      <td>23.2</td>\n",
              "      <td>25.4</td>\n",
              "      <td>30.0</td>\n",
              "      <td>11.5200</td>\n",
              "      <td>4.0200</td>\n",
              "      <td>1</td>\n",
              "      <td>0</td>\n",
              "      <td>0</td>\n",
              "      <td>0</td>\n",
              "      <td>0</td>\n",
              "      <td>0</td>\n",
              "    </tr>\n",
              "    <tr>\n",
              "      <th>1</th>\n",
              "      <td>24.0</td>\n",
              "      <td>26.3</td>\n",
              "      <td>31.2</td>\n",
              "      <td>12.4800</td>\n",
              "      <td>4.3056</td>\n",
              "      <td>1</td>\n",
              "      <td>0</td>\n",
              "      <td>0</td>\n",
              "      <td>0</td>\n",
              "      <td>0</td>\n",
              "      <td>0</td>\n",
              "    </tr>\n",
              "    <tr>\n",
              "      <th>2</th>\n",
              "      <td>23.9</td>\n",
              "      <td>26.5</td>\n",
              "      <td>31.1</td>\n",
              "      <td>12.3778</td>\n",
              "      <td>4.6961</td>\n",
              "      <td>1</td>\n",
              "      <td>0</td>\n",
              "      <td>0</td>\n",
              "      <td>0</td>\n",
              "      <td>0</td>\n",
              "      <td>0</td>\n",
              "    </tr>\n",
              "  </tbody>\n",
              "</table>\n",
              "</div>"
            ],
            "text/plain": [
              "   Length1  Length2  Length3  ...  Species_Roach  Species_Smelt  Species_Whitefish\n",
              "0     23.2     25.4     30.0  ...              0              0                  0\n",
              "1     24.0     26.3     31.2  ...              0              0                  0\n",
              "2     23.9     26.5     31.1  ...              0              0                  0\n",
              "\n",
              "[3 rows x 11 columns]"
            ]
          },
          "metadata": {
            "tags": []
          },
          "execution_count": 4
        }
      ]
    },
    {
      "cell_type": "markdown",
      "metadata": {
        "id": "_EpWd9r_PMjB"
      },
      "source": [
        "## Explore data"
      ]
    },
    {
      "cell_type": "code",
      "metadata": {
        "colab": {
          "base_uri": "https://localhost:8080/",
          "height": 202
        },
        "id": "pM12lgDgjhC2",
        "outputId": "038a1585-0814-4017-95d8-cf11c1451e40"
      },
      "source": [
        "ppp.column_hists(xdata.drop(columns=[col for col in xdata.columns if any(col.startswith(x) for x in categorical)]))"
      ],
      "execution_count": 5,
      "outputs": [
        {
          "output_type": "display_data",
          "data": {
            "image/png": "[encoded data removed]",
            "text/plain": [
              "<Figure size 1080x216 with 5 Axes>"
            ]
          },
          "metadata": {
            "tags": [],
            "needs_background": "light"
          }
        }
      ]
    },
    {
      "cell_type": "code",
      "metadata": {
        "colab": {
          "base_uri": "https://localhost:8080/",
          "height": 585
        },
        "id": "5OeBnVAiU6sA",
        "outputId": "e4eca4b9-23e8-47b3-b94a-93180501d50c"
      },
      "source": [
        "ppp.plot_corrs(xdata, method='spearman', plot_size=8)"
      ],
      "execution_count": 6,
      "outputs": [
        {
          "output_type": "display_data",
          "data": {
            "image/png": "[encoded data removed]",
            "text/plain": [
              "<Figure size 576x576 with 1 Axes>"
            ]
          },
          "metadata": {
            "tags": [],
            "needs_background": "light"
          }
        }
      ]
    },
    {
      "cell_type": "markdown",
      "metadata": {
        "id": "aDCfxwKReJZj"
      },
      "source": [
        "*Length1*, *Length2*, *Length3* and *Width* are highly correlated. I will leave only *Length1* and *Width*."
      ]
    },
    {
      "cell_type": "code",
      "metadata": {
        "id": "gyA_lY2tegsX"
      },
      "source": [
        "xdata = xdata.drop(columns=['Length2', 'Length3'])"
      ],
      "execution_count": 7,
      "outputs": []
    },
    {
      "cell_type": "markdown",
      "metadata": {
        "id": "1Fmji5i5QY8K"
      },
      "source": [
        "## Simple Linear Regression\n",
        "\n",
        "Let's make it with *Length1*, *Height* and *Width* features."
      ]
    },
    {
      "cell_type": "code",
      "metadata": {
        "id": "6CU4m_6QkjDu"
      },
      "source": [
        "get_scores = {'R-squared': 'r2', \n",
        "              'neg RMSE': 'neg_root_mean_squared_error'}\n",
        "\n",
        "def score_cross_validation(model, x, y, scoring_dict,\n",
        "                           cv=10, n_jobs=-1, return_estimator=False):\n",
        "  results = cross_validate(model, x, y, cv=cv, n_jobs=n_jobs,\n",
        "                            scoring=list(scoring_dict.values()),\n",
        "                            return_estimator=return_estimator)\n",
        "  chosen_results = []\n",
        "  for score_name, scores in scoring_dict.items():\n",
        "    biggest = max(results['test_'+scores])\n",
        "    average = np.mean(results['test_'+scores])\n",
        "    std = np.std(results['test_'+scores])\n",
        "    chosen_results.extend([biggest, average, std])\n",
        "\n",
        "  score_names = [[f'Max {name}', f'Mean {name}', f'Std {name}'] for name in scoring_dict.keys()]\n",
        "  score_names = list(chain(*score_names))\n",
        "\n",
        "  return chosen_results, score_names"
      ],
      "execution_count": 8,
      "outputs": []
    },
    {
      "cell_type": "code",
      "metadata": {
        "colab": {
          "base_uri": "https://localhost:8080/"
        },
        "id": "I7Ko_nGqQZsv",
        "outputId": "7d3ea1ea-909d-40cb-9be8-f027f8b3a00f"
      },
      "source": [
        "xdatas = [xdata[[col]] for col in ['Length1', 'Height', 'Width']]\n",
        "model = linear_model.LinearRegression()\n",
        "kf =  KFold(n_splits=10, shuffle=True, random_state=42)\n",
        "\n",
        "for x in xdatas:\n",
        "  res, scr = score_cross_validation(model, x, ydata, get_scores, cv=kf)\n",
        "  ppp.rank_results([res], [f'Simple Linear Regression: {x.columns.values}'], scr, main_score_id=1, round_by=3)"
      ],
      "execution_count": 9,
      "outputs": [
        {
          "output_type": "stream",
          "text": [
            "\u001b[1m\u001b[4mSimple Linear Regression: ['Length1']\u001b[0m\n",
            "Max R-squared: 0.893\u001b[0m\n",
            "\u001b[1mMean R-squared: 0.806\u001b[0m\n",
            "Std R-squared: 0.068\u001b[0m\n",
            "Max neg RMSE: -89.419\u001b[0m\n",
            "Mean neg RMSE: -144.196\u001b[0m\n",
            "Std neg RMSE: 25.183\u001b[0m\n",
            "----------\n",
            "\u001b[1m\u001b[4mSimple Linear Regression: ['Height']\u001b[0m\n",
            "Max R-squared: 0.770\u001b[0m\n",
            "\u001b[1mMean R-squared: 0.492\u001b[0m\n",
            "Std R-squared: 0.170\u001b[0m\n",
            "Max neg RMSE: -159.995\u001b[0m\n",
            "Mean neg RMSE: -241.127\u001b[0m\n",
            "Std neg RMSE: 78.461\u001b[0m\n",
            "----------\n",
            "\u001b[1m\u001b[4mSimple Linear Regression: ['Width']\u001b[0m\n",
            "Max R-squared: 0.894\u001b[0m\n",
            "\u001b[1mMean R-squared: 0.759\u001b[0m\n",
            "Std R-squared: 0.107\u001b[0m\n",
            "Max neg RMSE: -96.919\u001b[0m\n",
            "Mean neg RMSE: -163.069\u001b[0m\n",
            "Std neg RMSE: 55.270\u001b[0m\n",
            "----------\n"
          ],
          "name": "stdout"
        }
      ]
    },
    {
      "cell_type": "markdown",
      "metadata": {
        "id": "doaMejrWPdQ2"
      },
      "source": [
        "##Multivariative Linear Regression\n",
        "\n",
        "Let's try it with different feature sets\n"
      ]
    },
    {
      "cell_type": "code",
      "metadata": {
        "colab": {
          "base_uri": "https://localhost:8080/"
        },
        "id": "HbwW7xE6kbBZ",
        "outputId": "7568ac00-d9d5-4dd8-ac5e-2258d617ba0d"
      },
      "source": [
        "model = linear_model.LinearRegression()\n",
        "\n",
        "xdatas = [xdata[['Length1', 'Height', 'Width']], \n",
        "          xdata[['Height', 'Width']],\n",
        "          xdata[['Length1', 'Width']],\n",
        "          xdata,\n",
        "          xdata.drop(columns=['Species_Smelt', 'Species_Pike'])]\n",
        "\n",
        "for x in xdatas:\n",
        "  res, scr = score_cross_validation(model, x, ydata, get_scores, cv=kf)\n",
        "  ppp.rank_results([res], [f'Multivariative Linear Regression: {x.columns.values}'], scr, main_score_id=1, round_by=3)"
      ],
      "execution_count": 10,
      "outputs": [
        {
          "output_type": "stream",
          "text": [
            "\u001b[1m\u001b[4mMultivariative Linear Regression: ['Length1' 'Height' 'Width']\u001b[0m\n",
            "Max R-squared: 0.912\u001b[0m\n",
            "\u001b[1mMean R-squared: 0.858\u001b[0m\n",
            "Std R-squared: 0.035\u001b[0m\n",
            "Max neg RMSE: -101.504\u001b[0m\n",
            "Mean neg RMSE: -125.434\u001b[0m\n",
            "Std neg RMSE: 23.495\u001b[0m\n",
            "----------\n",
            "\u001b[1m\u001b[4mMultivariative Linear Regression: ['Height' 'Width']\u001b[0m\n",
            "Max R-squared: 0.890\u001b[0m\n",
            "\u001b[1mMean R-squared: 0.760\u001b[0m\n",
            "Std R-squared: 0.109\u001b[0m\n",
            "Max neg RMSE: -98.528\u001b[0m\n",
            "Mean neg RMSE: -162.907\u001b[0m\n",
            "Std neg RMSE: 57.747\u001b[0m\n",
            "----------\n",
            "\u001b[1m\u001b[4mMultivariative Linear Regression: ['Length1' 'Width']\u001b[0m\n",
            "Max R-squared: 0.898\u001b[0m\n",
            "\u001b[1mMean R-squared: 0.845\u001b[0m\n",
            "Std R-squared: 0.046\u001b[0m\n",
            "Max neg RMSE: -104.229\u001b[0m\n",
            "Mean neg RMSE: -130.184\u001b[0m\n",
            "Std neg RMSE: 22.946\u001b[0m\n",
            "----------\n",
            "\u001b[1m\u001b[4mMultivariative Linear Regression: ['Length1' 'Height' 'Width' 'Species_Bream' 'Species_Parkki'\n",
            " 'Species_Pike' 'Species_Roach' 'Species_Smelt' 'Species_Whitefish']\u001b[0m\n",
            "Max R-squared: 0.949\u001b[0m\n",
            "\u001b[1mMean R-squared: 0.915\u001b[0m\n",
            "Std R-squared: 0.023\u001b[0m\n",
            "Max neg RMSE: -65.035\u001b[0m\n",
            "Mean neg RMSE: -98.946\u001b[0m\n",
            "Std neg RMSE: 28.621\u001b[0m\n",
            "----------\n",
            "\u001b[1m\u001b[4mMultivariative Linear Regression: ['Length1' 'Height' 'Width' 'Species_Bream' 'Species_Parkki'\n",
            " 'Species_Roach' 'Species_Whitefish']\u001b[0m\n",
            "Max R-squared: 0.929\u001b[0m\n",
            "\u001b[1mMean R-squared: 0.867\u001b[0m\n",
            "Std R-squared: 0.029\u001b[0m\n",
            "Max neg RMSE: -90.035\u001b[0m\n",
            "Mean neg RMSE: -121.961\u001b[0m\n",
            "Std neg RMSE: 26.137\u001b[0m\n",
            "----------\n"
          ],
          "name": "stdout"
        }
      ]
    },
    {
      "cell_type": "markdown",
      "metadata": {
        "id": "G165LyqAlVOj"
      },
      "source": [
        "Model with all selected features got the best result. R-squared of 0.91 is a pretty nice result. Let's try more difficult models."
      ]
    },
    {
      "cell_type": "markdown",
      "metadata": {
        "id": "wnBzUciRlLtV"
      },
      "source": [
        "## Ridge Regression"
      ]
    },
    {
      "cell_type": "code",
      "metadata": {
        "colab": {
          "base_uri": "https://localhost:8080/"
        },
        "id": "pVPF_kpglLXi",
        "outputId": "4d162044-a929-4603-f111-12638f0b5773"
      },
      "source": [
        "ridge_models = []\n",
        "for a in np.logspace(-3, 3, 7):\n",
        "  ridge_models.append([a, linear_model.Ridge(alpha=a)])\n",
        "\n",
        "for (a, model) in ridge_models:\n",
        "  res, scr = score_cross_validation(model, xdata, ydata, get_scores, cv=kf)\n",
        "  ppp.rank_results([res], [f'Ridge Regression (alpha={a})'], scr, \n",
        "                   main_score_id=1, round_by=5)"
      ],
      "execution_count": 11,
      "outputs": [
        {
          "output_type": "stream",
          "text": [
            "\u001b[1m\u001b[4mRidge Regression (alpha=0.001)\u001b[0m\n",
            "Max R-squared: 0.94876\u001b[0m\n",
            "\u001b[1mMean R-squared: 0.91498\u001b[0m\n",
            "Std R-squared: 0.02303\u001b[0m\n",
            "Max neg RMSE: -65.03639\u001b[0m\n",
            "Mean neg RMSE: -98.94294\u001b[0m\n",
            "Std neg RMSE: 28.62169\u001b[0m\n",
            "----------\n",
            "\u001b[1m\u001b[4mRidge Regression (alpha=0.01)\u001b[0m\n",
            "Max R-squared: 0.94874\u001b[0m\n",
            "\u001b[1mMean R-squared: 0.91503\u001b[0m\n",
            "Std R-squared: 0.02301\u001b[0m\n",
            "Max neg RMSE: -65.05248\u001b[0m\n",
            "Mean neg RMSE: -98.91641\u001b[0m\n",
            "Std neg RMSE: 28.62694\u001b[0m\n",
            "----------\n",
            "\u001b[1m\u001b[4mRidge Regression (alpha=0.1)\u001b[0m\n",
            "Max R-squared: 0.94847\u001b[0m\n",
            "\u001b[1mMean R-squared: 0.91544\u001b[0m\n",
            "Std R-squared: 0.02289\u001b[0m\n",
            "Max neg RMSE: -65.19866\u001b[0m\n",
            "Mean neg RMSE: -98.70105\u001b[0m\n",
            "Std neg RMSE: 28.68342\u001b[0m\n",
            "----------\n",
            "\u001b[1m\u001b[4mRidge Regression (alpha=1.0)\u001b[0m\n",
            "Max R-squared: 0.94463\u001b[0m\n",
            "\u001b[1mMean R-squared: 0.91544\u001b[0m\n",
            "Std R-squared: 0.02299\u001b[0m\n",
            "Max neg RMSE: -66.41393\u001b[0m\n",
            "Mean neg RMSE: -98.67718\u001b[0m\n",
            "Std neg RMSE: 28.96011\u001b[0m\n",
            "----------\n",
            "\u001b[1m\u001b[4mRidge Regression (alpha=10.0)\u001b[0m\n",
            "Max R-squared: 0.94055\u001b[0m\n",
            "\u001b[1mMean R-squared: 0.89520\u001b[0m\n",
            "Std R-squared: 0.02362\u001b[0m\n",
            "Max neg RMSE: -79.51218\u001b[0m\n",
            "Mean neg RMSE: -108.94337\u001b[0m\n",
            "Std neg RMSE: 26.33827\u001b[0m\n",
            "----------\n",
            "\u001b[1m\u001b[4mRidge Regression (alpha=100.0)\u001b[0m\n",
            "Max R-squared: 0.92098\u001b[0m\n",
            "\u001b[1mMean R-squared: 0.86424\u001b[0m\n",
            "Std R-squared: 0.03109\u001b[0m\n",
            "Max neg RMSE: -95.21963\u001b[0m\n",
            "Mean neg RMSE: -122.62283\u001b[0m\n",
            "Std neg RMSE: 22.06166\u001b[0m\n",
            "----------\n",
            "\u001b[1m\u001b[4mRidge Regression (alpha=1000.0)\u001b[0m\n",
            "Max R-squared: 0.90177\u001b[0m\n",
            "\u001b[1mMean R-squared: 0.84913\u001b[0m\n",
            "Std R-squared: 0.03794\u001b[0m\n",
            "Max neg RMSE: -91.26435\u001b[0m\n",
            "Mean neg RMSE: -128.77142\u001b[0m\n",
            "Std neg RMSE: 20.63206\u001b[0m\n",
            "----------\n"
          ],
          "name": "stdout"
        }
      ]
    },
    {
      "cell_type": "markdown",
      "metadata": {
        "id": "rRaZEyWZrFsk"
      },
      "source": [
        "The best alpha is somewhere between 0.1 and 1."
      ]
    },
    {
      "cell_type": "code",
      "metadata": {
        "colab": {
          "base_uri": "https://localhost:8080/"
        },
        "id": "lCYO59_UrR1d",
        "outputId": "3cf37a26-10e0-4623-ca3e-fcf3abfab6cd"
      },
      "source": [
        "ridge_models = []\n",
        "for a in [.1, .3, .5, .7, .9]:\n",
        "  ridge_models.append([a, linear_model.Ridge(alpha=a)])\n",
        "\n",
        "for (a, model) in ridge_models:\n",
        "  res, scr = score_cross_validation(model, xdata, ydata, get_scores, cv=kf)\n",
        "  ppp.rank_results([res], [f'Ridge Regression (alpha={a})'], scr, \n",
        "                   main_score_id=1, round_by=5)"
      ],
      "execution_count": 12,
      "outputs": [
        {
          "output_type": "stream",
          "text": [
            "\u001b[1m\u001b[4mRidge Regression (alpha=0.1)\u001b[0m\n",
            "Max R-squared: 0.94847\u001b[0m\n",
            "\u001b[1mMean R-squared: 0.91544\u001b[0m\n",
            "Std R-squared: 0.02289\u001b[0m\n",
            "Max neg RMSE: -65.19866\u001b[0m\n",
            "Mean neg RMSE: -98.70105\u001b[0m\n",
            "Std neg RMSE: 28.68342\u001b[0m\n",
            "----------\n",
            "\u001b[1m\u001b[4mRidge Regression (alpha=0.3)\u001b[0m\n",
            "Max R-squared: 0.94777\u001b[0m\n",
            "\u001b[1mMean R-squared: 0.91591\u001b[0m\n",
            "Std R-squared: 0.02281\u001b[0m\n",
            "Max neg RMSE: -65.47185\u001b[0m\n",
            "Mean neg RMSE: -98.45221\u001b[0m\n",
            "Std neg RMSE: 28.80215\u001b[0m\n",
            "----------\n",
            "\u001b[1m\u001b[4mRidge Regression (alpha=0.5)\u001b[0m\n",
            "Max R-squared: 0.94695\u001b[0m\n",
            "\u001b[1mMean R-squared: 0.91600\u001b[0m\n",
            "Std R-squared: 0.02285\u001b[0m\n",
            "Max neg RMSE: -65.72676\u001b[0m\n",
            "Mean neg RMSE: -98.39644\u001b[0m\n",
            "Std neg RMSE: 28.88728\u001b[0m\n",
            "----------\n",
            "\u001b[1m\u001b[4mRidge Regression (alpha=0.7)\u001b[0m\n",
            "Max R-squared: 0.94606\u001b[0m\n",
            "\u001b[1mMean R-squared: 0.91587\u001b[0m\n",
            "Std R-squared: 0.02291\u001b[0m\n",
            "Max neg RMSE: -65.98953\u001b[0m\n",
            "Mean neg RMSE: -98.45602\u001b[0m\n",
            "Std neg RMSE: 28.93746\u001b[0m\n",
            "----------\n",
            "\u001b[1m\u001b[4mRidge Regression (alpha=0.9)\u001b[0m\n",
            "Max R-squared: 0.94511\u001b[0m\n",
            "\u001b[1mMean R-squared: 0.91561\u001b[0m\n",
            "Std R-squared: 0.02297\u001b[0m\n",
            "Max neg RMSE: -66.26817\u001b[0m\n",
            "Mean neg RMSE: -98.59013\u001b[0m\n",
            "Std neg RMSE: 28.95853\u001b[0m\n",
            "----------\n"
          ],
          "name": "stdout"
        }
      ]
    },
    {
      "cell_type": "markdown",
      "metadata": {
        "id": "VU-AA_RrrkTn"
      },
      "source": [
        "## Lasso Regression"
      ]
    },
    {
      "cell_type": "code",
      "metadata": {
        "colab": {
          "base_uri": "https://localhost:8080/"
        },
        "id": "zkGzd_1brmuv",
        "outputId": "bcea66ef-abc3-40ac-a882-f4b90ee70baa"
      },
      "source": [
        "lasso_models = []\n",
        "for a in np.logspace(-2, 2, 5):\n",
        "  lasso_models.append([a, linear_model.Lasso(alpha=a)])\n",
        "\n",
        "for a in [.05, .3, .5, .7, .9]:\n",
        "  lasso_models.append([a, linear_model.Lasso(alpha=a)])\n",
        "\n",
        "for (a, model) in sorted(lasso_models, key=lambda x: x[0]):\n",
        "  res, scr = score_cross_validation(model, xdata, ydata, get_scores, cv=kf)\n",
        "  ppp.rank_results([res], [f'Ridge Regression (alpha={a})'], scr, \n",
        "                   main_score_id=1, round_by=5)"
      ],
      "execution_count": 13,
      "outputs": [
        {
          "output_type": "stream",
          "text": [
            "\u001b[1m\u001b[4mRidge Regression (alpha=0.01)\u001b[0m\n",
            "Max R-squared: 0.94880\u001b[0m\n",
            "\u001b[1mMean R-squared: 0.91507\u001b[0m\n",
            "Std R-squared: 0.02305\u001b[0m\n",
            "Max neg RMSE: -64.90473\u001b[0m\n",
            "Mean neg RMSE: -98.89089\u001b[0m\n",
            "Std neg RMSE: 28.62511\u001b[0m\n",
            "----------\n",
            "\u001b[1m\u001b[4mRidge Regression (alpha=0.05)\u001b[0m\n",
            "Max R-squared: 0.94892\u001b[0m\n",
            "\u001b[1mMean R-squared: 0.91543\u001b[0m\n",
            "Std R-squared: 0.02315\u001b[0m\n",
            "Max neg RMSE: -64.39234\u001b[0m\n",
            "Mean neg RMSE: -98.67965\u001b[0m\n",
            "Std neg RMSE: 28.64565\u001b[0m\n",
            "----------\n",
            "\u001b[1m\u001b[4mRidge Regression (alpha=0.1)\u001b[0m\n",
            "Max R-squared: 0.94902\u001b[0m\n",
            "\u001b[1mMean R-squared: 0.91570\u001b[0m\n",
            "Std R-squared: 0.02324\u001b[0m\n",
            "Max neg RMSE: -64.03196\u001b[0m\n",
            "Mean neg RMSE: -98.51401\u001b[0m\n",
            "Std neg RMSE: 28.65778\u001b[0m\n",
            "----------\n",
            "\u001b[1m\u001b[4mRidge Regression (alpha=0.3)\u001b[0m\n",
            "Max R-squared: 0.94920\u001b[0m\n",
            "\u001b[1mMean R-squared: 0.91622\u001b[0m\n",
            "Std R-squared: 0.02337\u001b[0m\n",
            "Max neg RMSE: -63.79193\u001b[0m\n",
            "Mean neg RMSE: -98.16632\u001b[0m\n",
            "Std neg RMSE: 28.58276\u001b[0m\n",
            "----------\n",
            "\u001b[1m\u001b[4mRidge Regression (alpha=0.5)\u001b[0m\n",
            "Max R-squared: 0.94832\u001b[0m\n",
            "\u001b[1mMean R-squared: 0.91630\u001b[0m\n",
            "Std R-squared: 0.02329\u001b[0m\n",
            "Max neg RMSE: -63.71785\u001b[0m\n",
            "Mean neg RMSE: -98.10305\u001b[0m\n",
            "Std neg RMSE: 28.45037\u001b[0m\n",
            "----------\n",
            "\u001b[1m\u001b[4mRidge Regression (alpha=0.7)\u001b[0m\n",
            "Max R-squared: 0.94705\u001b[0m\n",
            "\u001b[1mMean R-squared: 0.91620\u001b[0m\n",
            "Std R-squared: 0.02318\u001b[0m\n",
            "Max neg RMSE: -63.71378\u001b[0m\n",
            "Mean neg RMSE: -98.13927\u001b[0m\n",
            "Std neg RMSE: 28.29373\u001b[0m\n",
            "----------\n",
            "\u001b[1m\u001b[4mRidge Regression (alpha=0.9)\u001b[0m\n",
            "Max R-squared: 0.94564\u001b[0m\n",
            "\u001b[1mMean R-squared: 0.91575\u001b[0m\n",
            "Std R-squared: 0.02304\u001b[0m\n",
            "Max neg RMSE: -64.20814\u001b[0m\n",
            "Mean neg RMSE: -98.37576\u001b[0m\n",
            "Std neg RMSE: 28.12158\u001b[0m\n",
            "----------\n",
            "\u001b[1m\u001b[4mRidge Regression (alpha=1.0)\u001b[0m\n",
            "Max R-squared: 0.94488\u001b[0m\n",
            "\u001b[1mMean R-squared: 0.91550\u001b[0m\n",
            "Std R-squared: 0.02299\u001b[0m\n",
            "Max neg RMSE: -64.46834\u001b[0m\n",
            "Mean neg RMSE: -98.50409\u001b[0m\n",
            "Std neg RMSE: 28.03695\u001b[0m\n",
            "----------\n",
            "\u001b[1m\u001b[4mRidge Regression (alpha=10.0)\u001b[0m\n",
            "Max R-squared: 0.93490\u001b[0m\n",
            "\u001b[1mMean R-squared: 0.87666\u001b[0m\n",
            "Std R-squared: 0.02952\u001b[0m\n",
            "Max neg RMSE: -86.08825\u001b[0m\n",
            "Mean neg RMSE: -117.20829\u001b[0m\n",
            "Std neg RMSE: 24.20908\u001b[0m\n",
            "----------\n",
            "\u001b[1m\u001b[4mRidge Regression (alpha=100.0)\u001b[0m\n",
            "Max R-squared: 0.89907\u001b[0m\n",
            "\u001b[1mMean R-squared: 0.84499\u001b[0m\n",
            "Std R-squared: 0.04222\u001b[0m\n",
            "Max neg RMSE: -92.27827\u001b[0m\n",
            "Mean neg RMSE: -130.04568\u001b[0m\n",
            "Std neg RMSE: 19.96269\u001b[0m\n",
            "----------\n"
          ],
          "name": "stdout"
        }
      ]
    },
    {
      "cell_type": "markdown",
      "metadata": {
        "id": "uk3aS8p3scKb"
      },
      "source": [
        "## KNN"
      ]
    },
    {
      "cell_type": "code",
      "metadata": {
        "id": "Ty8x6zL4jiWf",
        "colab": {
          "base_uri": "https://localhost:8080/"
        },
        "outputId": "9e94a34a-5ec6-4341-d74c-5e57b71842f1"
      },
      "source": [
        "knn_models = []\n",
        "for n in range(1, 5):\n",
        "  for p in [1,2]:\n",
        "    knn_models.append([n, p, KNeighborsRegressor(n_neighbors=n, p=p)])\n",
        "\n",
        "for (n, p, model) in sorted(knn_models, key=lambda x: x[0]):\n",
        "  res, scr = score_cross_validation(model, xdata, ydata, get_scores, cv=kf)\n",
        "  ppp.rank_results([res], [f'KNN (n_neighbors={n}, p={p})'], scr, \n",
        "                   main_score_id=1, round_by=3)"
      ],
      "execution_count": 14,
      "outputs": [
        {
          "output_type": "stream",
          "text": [
            "\u001b[1m\u001b[4mKNN (n_neighbors=1, p=1)\u001b[0m\n",
            "Max R-squared: 0.994\u001b[0m\n",
            "\u001b[1mMean R-squared: 0.964\u001b[0m\n",
            "Std R-squared: 0.020\u001b[0m\n",
            "Max neg RMSE: -18.929\u001b[0m\n",
            "Mean neg RMSE: -61.671\u001b[0m\n",
            "Std neg RMSE: 22.408\u001b[0m\n",
            "----------\n",
            "\u001b[1m\u001b[4mKNN (n_neighbors=1, p=2)\u001b[0m\n",
            "Max R-squared: 0.994\u001b[0m\n",
            "\u001b[1mMean R-squared: 0.966\u001b[0m\n",
            "Std R-squared: 0.018\u001b[0m\n",
            "Max neg RMSE: -18.929\u001b[0m\n",
            "Mean neg RMSE: -60.096\u001b[0m\n",
            "Std neg RMSE: 21.053\u001b[0m\n",
            "----------\n",
            "\u001b[1m\u001b[4mKNN (n_neighbors=2, p=1)\u001b[0m\n",
            "Max R-squared: 0.991\u001b[0m\n",
            "\u001b[1mMean R-squared: 0.976\u001b[0m\n",
            "Std R-squared: 0.010\u001b[0m\n",
            "Max neg RMSE: -24.245\u001b[0m\n",
            "Mean neg RMSE: -50.698\u001b[0m\n",
            "Std neg RMSE: 13.727\u001b[0m\n",
            "----------\n",
            "\u001b[1m\u001b[4mKNN (n_neighbors=2, p=2)\u001b[0m\n",
            "Max R-squared: 0.993\u001b[0m\n",
            "\u001b[1mMean R-squared: 0.979\u001b[0m\n",
            "Std R-squared: 0.011\u001b[0m\n",
            "Max neg RMSE: -24.983\u001b[0m\n",
            "Mean neg RMSE: -46.613\u001b[0m\n",
            "Std neg RMSE: 13.200\u001b[0m\n",
            "----------\n",
            "\u001b[1m\u001b[4mKNN (n_neighbors=3, p=1)\u001b[0m\n",
            "Max R-squared: 0.990\u001b[0m\n",
            "\u001b[1mMean R-squared: 0.974\u001b[0m\n",
            "Std R-squared: 0.012\u001b[0m\n",
            "Max neg RMSE: -34.632\u001b[0m\n",
            "Mean neg RMSE: -53.490\u001b[0m\n",
            "Std neg RMSE: 17.097\u001b[0m\n",
            "----------\n",
            "\u001b[1m\u001b[4mKNN (n_neighbors=3, p=2)\u001b[0m\n",
            "Max R-squared: 0.992\u001b[0m\n",
            "\u001b[1mMean R-squared: 0.975\u001b[0m\n",
            "Std R-squared: 0.013\u001b[0m\n",
            "Max neg RMSE: -22.027\u001b[0m\n",
            "Mean neg RMSE: -51.547\u001b[0m\n",
            "Std neg RMSE: 19.668\u001b[0m\n",
            "----------\n",
            "\u001b[1m\u001b[4mKNN (n_neighbors=4, p=1)\u001b[0m\n",
            "Max R-squared: 0.988\u001b[0m\n",
            "\u001b[1mMean R-squared: 0.970\u001b[0m\n",
            "Std R-squared: 0.016\u001b[0m\n",
            "Max neg RMSE: -32.339\u001b[0m\n",
            "Mean neg RMSE: -58.804\u001b[0m\n",
            "Std neg RMSE: 24.688\u001b[0m\n",
            "----------\n",
            "\u001b[1m\u001b[4mKNN (n_neighbors=4, p=2)\u001b[0m\n",
            "Max R-squared: 0.992\u001b[0m\n",
            "\u001b[1mMean R-squared: 0.964\u001b[0m\n",
            "Std R-squared: 0.019\u001b[0m\n",
            "Max neg RMSE: -22.418\u001b[0m\n",
            "Mean neg RMSE: -63.175\u001b[0m\n",
            "Std neg RMSE: 26.960\u001b[0m\n",
            "----------\n"
          ],
          "name": "stdout"
        }
      ]
    },
    {
      "cell_type": "markdown",
      "metadata": {
        "id": "v2MiHGdow6Z6"
      },
      "source": [
        "It can be seen that KNN with 2 neighbors and default Euclidean metric results in even better mean R-squared score: ~0.98"
      ]
    },
    {
      "cell_type": "markdown",
      "metadata": {
        "id": "fktfOAiFldHt"
      },
      "source": [
        "## Best Regression model"
      ]
    },
    {
      "cell_type": "code",
      "metadata": {
        "colab": {
          "base_uri": "https://localhost:8080/",
          "height": 484
        },
        "id": "i0MQ5wqkxLbl",
        "outputId": "09b235fb-208a-4886-9689-65b53035f810"
      },
      "source": [
        "print(ppp.txt_eff.BOLD + 'Used features:' + ppp.txt_eff.END)\n",
        "for col in xdata.columns: print(f'\\t{col}')\n",
        "\n",
        "model = KNeighborsRegressor(n_neighbors=2, p=2)\n",
        "xtrain, xtest, ytrain, ytest = train_test_split(xdata, ydata, test_size=.1,\n",
        "                                                random_state=42)\n",
        "model.fit(xtrain, ytrain)\n",
        "yhat = model.predict(xtest)\n",
        "plt.scatter(ytest, yhat)\n",
        "plt.plot(ytest, ytest, c='r')\n",
        "plt.title(f'Actual VS predicted values \\nR-squared: {round(r2_score(ytest, yhat), 2)}')\n",
        "plt.show()"
      ],
      "execution_count": 15,
      "outputs": [
        {
          "output_type": "stream",
          "text": [
            "\u001b[1mUsed features:\u001b[0m\n",
            "\tLength1\n",
            "\tHeight\n",
            "\tWidth\n",
            "\tSpecies_Bream\n",
            "\tSpecies_Parkki\n",
            "\tSpecies_Pike\n",
            "\tSpecies_Roach\n",
            "\tSpecies_Smelt\n",
            "\tSpecies_Whitefish\n"
          ],
          "name": "stdout"
        },
        {
          "output_type": "display_data",
          "data": {
            "image/png": "[encoded data removed]",
            "text/plain": [
              "<Figure size 432x288 with 1 Axes>"
            ]
          },
          "metadata": {
            "tags": [],
            "needs_background": "light"
          }
        }
      ]
    },
    {
      "cell_type": "markdown",
      "metadata": {
        "id": "RrrcAuzQguMf"
      },
      "source": [
        "###Check on other test set"
      ]
    },
    {
      "cell_type": "code",
      "metadata": {
        "id": "p7JaHVyLgtMd"
      },
      "source": [
        "!wget -q 'https://raw.githubusercontent.com/VitaT/ML-python/main/data/fish_test.csv'"
      ],
      "execution_count": 16,
      "outputs": []
    },
    {
      "cell_type": "code",
      "metadata": {
        "colab": {
          "base_uri": "https://localhost:8080/"
        },
        "id": "TsgnG5pXhQYy",
        "outputId": "e95d5aed-ecc7-466e-f2d6-5587838e2863"
      },
      "source": [
        "test_data = pd.read_csv('fish_test.csv').drop(columns=['Unnamed: 0', 'Length2', 'Length3'])\n",
        "test_x, test_y = test_data.drop(columns=['Weight']), test_data['Weight']\n",
        "test_x = pd.get_dummies(test_x, columns=categorical).drop(columns=groups_to_drop)\n",
        "len(xdata.columns), len(test_x.columns)"
      ],
      "execution_count": 17,
      "outputs": [
        {
          "output_type": "execute_result",
          "data": {
            "text/plain": [
              "(9, 8)"
            ]
          },
          "metadata": {
            "tags": []
          },
          "execution_count": 17
        }
      ]
    },
    {
      "cell_type": "markdown",
      "metadata": {
        "id": "lNBFJbjWioO1"
      },
      "source": [
        "\"Repair\" the test set"
      ]
    },
    {
      "cell_type": "code",
      "metadata": {
        "colab": {
          "base_uri": "https://localhost:8080/"
        },
        "id": "cuxsJNivhBpb",
        "outputId": "3e80d37f-093b-45a9-bdd5-3f102d8b12c3"
      },
      "source": [
        "for col in xdata.columns: \n",
        "  if col not in test_x.columns: \n",
        "    print(col)"
      ],
      "execution_count": 18,
      "outputs": [
        {
          "output_type": "stream",
          "text": [
            "Species_Pike\n"
          ],
          "name": "stdout"
        }
      ]
    },
    {
      "cell_type": "code",
      "metadata": {
        "colab": {
          "base_uri": "https://localhost:8080/"
        },
        "id": "ynQMRK5Nhs24",
        "outputId": "af35d49e-8234-4399-a789-8cf6083af2b1"
      },
      "source": [
        "test_x['Species_Pike'] = 0\n",
        "test_x = test_x.reindex(columns=xdata.columns)\n",
        "list(zip(xdata.columns, test_x.columns))"
      ],
      "execution_count": 19,
      "outputs": [
        {
          "output_type": "execute_result",
          "data": {
            "text/plain": [
              "[('Length1', 'Length1'),\n",
              " ('Height', 'Height'),\n",
              " ('Width', 'Width'),\n",
              " ('Species_Bream', 'Species_Bream'),\n",
              " ('Species_Parkki', 'Species_Parkki'),\n",
              " ('Species_Pike', 'Species_Pike'),\n",
              " ('Species_Roach', 'Species_Roach'),\n",
              " ('Species_Smelt', 'Species_Smelt'),\n",
              " ('Species_Whitefish', 'Species_Whitefish')]"
            ]
          },
          "metadata": {
            "tags": []
          },
          "execution_count": 19
        }
      ]
    },
    {
      "cell_type": "markdown",
      "metadata": {
        "id": "lAPpXoeFilaU"
      },
      "source": [
        "Now run the model"
      ]
    },
    {
      "cell_type": "code",
      "metadata": {
        "colab": {
          "base_uri": "https://localhost:8080/",
          "height": 484
        },
        "id": "KqAQCIRQiloY",
        "outputId": "b450a7a2-a86b-4b83-8ccc-2e9a1e228b7a"
      },
      "source": [
        "print(ppp.txt_eff.BOLD + 'Used features:' + ppp.txt_eff.END)\n",
        "for col in test_x.columns: print(f'\\t{col}')\n",
        "\n",
        "yhat = model.predict(test_x)\n",
        "plt.scatter(test_y, yhat)\n",
        "plt.plot(test_y, test_y, c='r')\n",
        "plt.title(f'Actual VS predicted values \\nR-squared: {round(r2_score(test_y, yhat), 3)}')\n",
        "plt.show()"
      ],
      "execution_count": 20,
      "outputs": [
        {
          "output_type": "stream",
          "text": [
            "\u001b[1mUsed features:\u001b[0m\n",
            "\tLength1\n",
            "\tHeight\n",
            "\tWidth\n",
            "\tSpecies_Bream\n",
            "\tSpecies_Parkki\n",
            "\tSpecies_Pike\n",
            "\tSpecies_Roach\n",
            "\tSpecies_Smelt\n",
            "\tSpecies_Whitefish\n"
          ],
          "name": "stdout"
        },
        {
          "output_type": "display_data",
          "data": {
            "image/png": "[encoded data removed]",
            "text/plain": [
              "<Figure size 432x288 with 1 Axes>"
            ]
          },
          "metadata": {
            "tags": [],
            "needs_background": "light"
          }
        }
      ]
    },
    {
      "cell_type": "markdown",
      "metadata": {
        "id": "PaCdkP2qwD2b"
      },
      "source": [
        "# Classification\n",
        "\n",
        "Convert *Species* column to integers to prepare for multiclass classification."
      ]
    },
    {
      "cell_type": "code",
      "metadata": {
        "id": "dvL4cOkNrbN8"
      },
      "source": [
        "from sklearn.linear_model import RidgeClassifier\n",
        "from sklearn import svm, tree\n",
        "from sklearn.neighbors import KNeighborsClassifier, NearestCentroid\n",
        "from sklearn.model_selection import StratifiedKFold, GridSearchCV\n",
        "from sklearn.metrics import multilabel_confusion_matrix, classification_report"
      ],
      "execution_count": 21,
      "outputs": []
    },
    {
      "cell_type": "code",
      "metadata": {
        "colab": {
          "base_uri": "https://localhost:8080/",
          "height": 173
        },
        "id": "YSFFGRTKwExn",
        "outputId": "6223b22f-7ce9-47f4-c687-2961fb1b1e4d"
      },
      "source": [
        "df['Species'], species_names = pd.factorize(df['Species'])\n",
        "\n",
        "pairs = list(combinations(df.drop(columns=['Species', 'Length2', 'Length3']).columns, 2))\n",
        "fig, axs = plt.subplots(1, len(pairs), figsize=(4*len(pairs), 4))\n",
        "for n, pair in enumerate(pairs):\n",
        "  df.plot.scatter(pair[0], pair[1], c='Species', colormap='viridis', ax=axs[n])\n",
        "plt.tight_layout()\n",
        "plt.show()"
      ],
      "execution_count": 22,
      "outputs": [
        {
          "output_type": "display_data",
          "data": {
            "image/png": "[encoded data removed]",
            "text/plain": [
              "<Figure size 1728x288 with 12 Axes>"
            ]
          },
          "metadata": {
            "tags": [],
            "needs_background": "light"
          }
        }
      ]
    },
    {
      "cell_type": "markdown",
      "metadata": {
        "id": "88P2RIiQrFRE"
      },
      "source": [
        "It can be seen from these plots that *Height* feature really helps to differentiate between *Species*."
      ]
    },
    {
      "cell_type": "code",
      "metadata": {
        "id": "1dTMF3IswFdi"
      },
      "source": [
        "y = df['Species']\n",
        "x = df.drop(columns=['Species', 'Length2', 'Length3'])"
      ],
      "execution_count": 23,
      "outputs": []
    },
    {
      "cell_type": "markdown",
      "metadata": {
        "id": "RgpDnzY_sChw"
      },
      "source": [
        "## Try some Classification models"
      ]
    },
    {
      "cell_type": "code",
      "metadata": {
        "colab": {
          "base_uri": "https://localhost:8080/"
        },
        "id": "-U_qsrY7zBJy",
        "outputId": "21b48594-d82d-4166-efa3-8b2c57a00f32"
      },
      "source": [
        "models = {'Ridge Classifier (alpha=1)': RidgeClassifier(alpha=1),\n",
        "          'Ridge Classifier (alpha=.1)': RidgeClassifier(alpha=.1),\n",
        "          'KN Classifier (nn=5)': KNeighborsClassifier(n_neighbors=5),\n",
        "          'KN Classifier (nn=2)': KNeighborsClassifier(n_neighbors=2),\n",
        "          'Nearest Centroid': NearestCentroid(),\n",
        "          'Support Machine Vectors': svm.SVC(),\n",
        "          'Decision Trees': tree.DecisionTreeClassifier()}\n",
        "\n",
        "kf =  StratifiedKFold(n_splits=5, shuffle=True, random_state=42)\n",
        "\n",
        "class_score = {'F1': 'f1_macro',\n",
        "               'Accuracy': 'accuracy'}\n",
        "for name, model in models.items():\n",
        "  res, scr = score_cross_validation(model, x, y, class_score, cv=kf)\n",
        "  ppp.rank_results([res], [f'{name}'], scr, \n",
        "                   main_score_id=1, round_by=3)"
      ],
      "execution_count": 24,
      "outputs": [
        {
          "output_type": "stream",
          "text": [
            "\u001b[1m\u001b[4mRidge Classifier (alpha=1)\u001b[0m\n",
            "Max F1: 0.522\u001b[0m\n",
            "\u001b[1mMean F1: 0.501\u001b[0m\n",
            "Std F1: 0.012\u001b[0m\n",
            "Max Accuracy: 0.759\u001b[0m\n",
            "Mean Accuracy: 0.742\u001b[0m\n",
            "Std Accuracy: 0.014\u001b[0m\n",
            "----------\n",
            "\u001b[1m\u001b[4mRidge Classifier (alpha=.1)\u001b[0m\n",
            "Max F1: 0.522\u001b[0m\n",
            "\u001b[1mMean F1: 0.501\u001b[0m\n",
            "Std F1: 0.012\u001b[0m\n",
            "Max Accuracy: 0.759\u001b[0m\n",
            "Mean Accuracy: 0.742\u001b[0m\n",
            "Std Accuracy: 0.014\u001b[0m\n",
            "----------\n",
            "\u001b[1m\u001b[4mKN Classifier (nn=5)\u001b[0m\n",
            "Max F1: 0.466\u001b[0m\n",
            "\u001b[1mMean F1: 0.373\u001b[0m\n",
            "Std F1: 0.074\u001b[0m\n",
            "Max Accuracy: 0.633\u001b[0m\n",
            "Mean Accuracy: 0.488\u001b[0m\n",
            "Std Accuracy: 0.109\u001b[0m\n",
            "----------\n",
            "\u001b[1m\u001b[4mKN Classifier (nn=2)\u001b[0m\n",
            "Max F1: 0.543\u001b[0m\n",
            "\u001b[1mMean F1: 0.401\u001b[0m\n",
            "Std F1: 0.075\u001b[0m\n",
            "Max Accuracy: 0.600\u001b[0m\n",
            "Mean Accuracy: 0.441\u001b[0m\n",
            "Std Accuracy: 0.082\u001b[0m\n",
            "----------\n",
            "\u001b[1m\u001b[4mNearest Centroid\u001b[0m\n",
            "Max F1: 0.388\u001b[0m\n",
            "\u001b[1mMean F1: 0.260\u001b[0m\n",
            "Std F1: 0.066\u001b[0m\n",
            "Max Accuracy: 0.345\u001b[0m\n",
            "Mean Accuracy: 0.266\u001b[0m\n",
            "Std Accuracy: 0.047\u001b[0m\n",
            "----------\n",
            "\u001b[1m\u001b[4mSupport Machine Vectors\u001b[0m\n",
            "Max F1: 0.253\u001b[0m\n",
            "\u001b[1mMean F1: 0.208\u001b[0m\n",
            "Std F1: 0.044\u001b[0m\n",
            "Max Accuracy: 0.517\u001b[0m\n",
            "Mean Accuracy: 0.463\u001b[0m\n",
            "Std Accuracy: 0.033\u001b[0m\n",
            "----------\n",
            "\u001b[1m\u001b[4mDecision Trees\u001b[0m\n",
            "Max F1: 0.761\u001b[0m\n",
            "\u001b[1mMean F1: 0.679\u001b[0m\n",
            "Std F1: 0.078\u001b[0m\n",
            "Max Accuracy: 0.733\u001b[0m\n",
            "Mean Accuracy: 0.687\u001b[0m\n",
            "Std Accuracy: 0.043\u001b[0m\n",
            "----------\n"
          ],
          "name": "stdout"
        }
      ]
    },
    {
      "cell_type": "markdown",
      "metadata": {
        "id": "mY8amR0YAGGS"
      },
      "source": [
        "## Tuning of Decision Trees by AUC\n",
        "\n",
        "Let's concentrate on Decision Trees as a fast methd showing nice results"
      ]
    },
    {
      "cell_type": "code",
      "metadata": {
        "colab": {
          "base_uri": "https://localhost:8080/",
          "height": 809
        },
        "id": "ft75aTnN08Ad",
        "outputId": "0cd9f2a9-382f-470d-8b20-4de25841e7b9"
      },
      "source": [
        "class_score = {'AUC': 'roc_auc_ovo',\n",
        "               'F1': 'f1_macro',\n",
        "               'Accuracy': 'accuracy',\n",
        "               }\n",
        "\n",
        "max_depths = range(1, 24)\n",
        "auc_res = []\n",
        "\n",
        "for m in max_depths:\n",
        "  model = tree.DecisionTreeClassifier(max_depth=m, random_state=42)\n",
        "  res = cross_validate(model, x, y, scoring=class_score, cv=kf)\n",
        "  auc_res.append(np.mean(res['test_F1']))\n",
        "\n",
        "plt.plot(max_depths, auc_res)\n",
        "plt.xlabel('max_depth'), plt.ylabel('F1')\n",
        "plt.show()\n",
        "\n",
        "#-----------------------\n",
        "\n",
        "min_samples_split = [x*.1 for x in range(1, 10)]\n",
        "auc_res = []\n",
        "\n",
        "for m in min_samples_split:\n",
        "  model = tree.DecisionTreeClassifier(min_samples_split=m, random_state=42)\n",
        "  res = cross_validate(model, x, y, scoring=class_score, cv=kf)\n",
        "  auc_res.append(np.mean(res['test_F1']))\n",
        "\n",
        "plt.plot(min_samples_split, auc_res)\n",
        "plt.xlabel('min_samples_split'), plt.ylabel('F1')\n",
        "plt.show()\n",
        "\n",
        "#-----------------------\n",
        "min_samples_leafs = [x*.001 for x in range(1, 50, 5)]\n",
        "auc_res = []\n",
        "\n",
        "for m in min_samples_leafs:\n",
        "  model = tree.DecisionTreeClassifier(min_samples_leaf=m, random_state=42)\n",
        "  res = cross_validate(model, x, y, scoring=class_score, cv=kf)\n",
        "  auc_res.append(np.mean(res['test_F1']))\n",
        "\n",
        "plt.plot(min_samples_leafs, auc_res)\n",
        "plt.xlabel('min_samples_leaf'), plt.ylabel('F1')\n",
        "plt.show()\n"
      ],
      "execution_count": 25,
      "outputs": [
        {
          "output_type": "display_data",
          "data": {
            "image/png": "[encoded data removed]",
            "text/plain": [
              "<Figure size 432x288 with 1 Axes>"
            ]
          },
          "metadata": {
            "tags": [],
            "needs_background": "light"
          }
        },
        {
          "output_type": "display_data",
          "data": {
            "image/png": "[encoded data removed]",
            "text/plain": [
              "<Figure size 432x288 with 1 Axes>"
            ]
          },
          "metadata": {
            "tags": [],
            "needs_background": "light"
          }
        },
        {
          "output_type": "display_data",
          "data": {
            "image/png": "[encoded data removed]",
            "text/plain": [
              "<Figure size 432x288 with 1 Axes>"
            ]
          },
          "metadata": {
            "tags": [],
            "needs_background": "light"
          }
        }
      ]
    },
    {
      "cell_type": "markdown",
      "metadata": {
        "id": "E0XFFaoUC1i0"
      },
      "source": [
        "As we can see on this plot:\n",
        " * *max_depth* hyperparameter should be around 10 for best results\n",
        " * *min_samples_split* should be around .1\n",
        " * *min_samples_leafs* should be small, .001-.005"
      ]
    },
    {
      "cell_type": "code",
      "metadata": {
        "colab": {
          "base_uri": "https://localhost:8080/"
        },
        "id": "fCQ3YHswBgbR",
        "outputId": "c407d570-a2ce-49a0-b0da-b922e3eb3b9e"
      },
      "source": [
        "model = tree.DecisionTreeClassifier(max_depth=10,\n",
        "                                    min_samples_split=.1, \n",
        "                                    min_samples_leaf=.001,\n",
        "                                    random_state=42)\n",
        "\n",
        "res, scr = score_cross_validation(model, x, y, class_score, cv=kf)\n",
        "ppp.rank_results([res], [f'Tuned Decision Trees'], scr, \n",
        "                 main_score_id=1, round_by=3)"
      ],
      "execution_count": 26,
      "outputs": [
        {
          "output_type": "stream",
          "text": [
            "\u001b[1m\u001b[4mTuned Decision Trees\u001b[0m\n",
            "Max AUC: 0.927\u001b[0m\n",
            "\u001b[1mMean AUC: 0.857\u001b[0m\n",
            "Std AUC: 0.052\u001b[0m\n",
            "Max F1: 0.709\u001b[0m\n",
            "Mean F1: 0.614\u001b[0m\n",
            "Std F1: 0.076\u001b[0m\n",
            "Max Accuracy: 0.767\u001b[0m\n",
            "Mean Accuracy: 0.687\u001b[0m\n",
            "Std Accuracy: 0.083\u001b[0m\n",
            "----------\n"
          ],
          "name": "stdout"
        }
      ]
    },
    {
      "cell_type": "markdown",
      "metadata": {
        "id": "Wu_X9E9asThE"
      },
      "source": [
        "Let's also try to tune it with Grid Search CV."
      ]
    },
    {
      "cell_type": "code",
      "metadata": {
        "colab": {
          "base_uri": "https://localhost:8080/",
          "height": 427
        },
        "id": "oDzCVCYTvN-m",
        "outputId": "dfb2d33e-4935-4450-ed05-2cd375719b73"
      },
      "source": [
        "hyperparams = {'max_depth': list(range(5,15)),\n",
        "               'min_samples_split': [.1,.2,.3,.4],\n",
        "               'min_samples_leaf': [x*.001 for x in range(1,5)],\n",
        "               \"criterion\": [\"gini\", \"entropy\"]}\n",
        "kf =  StratifiedKFold(n_splits=5, shuffle=True, random_state=42)\n",
        "\n",
        "grid = GridSearchCV(tree.DecisionTreeClassifier(), hyperparams, cv=kf, scoring='f1_micro')\n",
        "grid.fit(x, y)\n",
        "print(ppp.txt_eff.BOLD + f'Tuned Decision Tree hyperparameters: {ppp.txt_eff.END} {grid.best_params_}')\n",
        "print(ppp.txt_eff.BOLD + f'Tuned Decision Tree F1: {ppp.txt_eff.END} {grid.best_score_}')\n",
        "\n",
        "model = tree.DecisionTreeClassifier(**grid.best_params_, random_state=42)\n",
        "xtrain, xtest, ytrain, ytest = train_test_split(x, y, test_size=.2,\n",
        "                                                random_state=42)\n",
        "model.fit(xtrain, ytrain)\n",
        "yhat = model.predict(xtest)\n",
        "\n",
        "t = pd.DataFrame({'ytest':ytest, 'yhat':yhat})\n",
        "t = t.groupby(['ytest','yhat']).size().reset_index(name='count')\n",
        "fig, ax = plt.subplots(1,1, figsize=(5,5))\n",
        "ax.plot(ytest, ytest, c='r', zorder=1)\n",
        "t.plot.scatter('ytest', 'yhat', s=10*t['count']**2, ax=ax, zorder=2)\n",
        "plt.tight_layout()\n",
        "plt.show()"
      ],
      "execution_count": 27,
      "outputs": [
        {
          "output_type": "stream",
          "text": [
            "\u001b[1mTuned Decision Tree hyperparameters: \u001b[0m {'criterion': 'entropy', 'max_depth': 6, 'min_samples_leaf': 0.003, 'min_samples_split': 0.1}\n",
            "\u001b[1mTuned Decision Tree F1: \u001b[0m 0.7071264367816092\n"
          ],
          "name": "stdout"
        },
        {
          "output_type": "display_data",
          "data": {
            "image/png": "[encoded data removed]",
            "text/plain": [
              "<Figure size 360x360 with 1 Axes>"
            ]
          },
          "metadata": {
            "tags": [],
            "needs_background": "light"
          }
        }
      ]
    },
    {
      "cell_type": "code",
      "metadata": {
        "colab": {
          "base_uri": "https://localhost:8080/",
          "height": 269
        },
        "id": "CeAPM4HZ871F",
        "outputId": "69fb0a57-2764-4cb2-e0d8-6e56d8d4cec1"
      },
      "source": [
        "l_ints = list(range(0,7))\n",
        "all_counts = df['Species'].value_counts(sort=False)\n",
        "report = classification_report(ytest, yhat, \n",
        "                            labels=l_ints,\n",
        "                            zero_division=0,\n",
        "                            output_dict=True)\n",
        "report = pd.DataFrame.from_dict(report).T.iloc[:7,:]\n",
        "report.index = l_ints\n",
        "report['All true count'] = all_counts\n",
        "report['Test true count'] = pd.Series(ytest).value_counts(sort=False)\n",
        "report['Test predicted count'] = pd.Series(yhat).value_counts(sort=False)\n",
        "report['Test predicted count'] = report['Test predicted count'].fillna(0).astype(int)\n",
        "report.index = species_names\n",
        "report"
      ],
      "execution_count": 28,
      "outputs": [
        {
          "output_type": "execute_result",
          "data": {
            "text/html": [
              "<div>\n",
              "<style scoped>\n",
              "    .dataframe tbody tr th:only-of-type {\n",
              "        vertical-align: middle;\n",
              "    }\n",
              "\n",
              "    .dataframe tbody tr th {\n",
              "        vertical-align: top;\n",
              "    }\n",
              "\n",
              "    .dataframe thead th {\n",
              "        text-align: right;\n",
              "    }\n",
              "</style>\n",
              "<table border=\"1\" class=\"dataframe\">\n",
              "  <thead>\n",
              "    <tr style=\"text-align: right;\">\n",
              "      <th></th>\n",
              "      <th>precision</th>\n",
              "      <th>recall</th>\n",
              "      <th>f1-score</th>\n",
              "      <th>support</th>\n",
              "      <th>All true count</th>\n",
              "      <th>Test true count</th>\n",
              "      <th>Test predicted count</th>\n",
              "    </tr>\n",
              "  </thead>\n",
              "  <tbody>\n",
              "    <tr>\n",
              "      <th>Bream</th>\n",
              "      <td>1.000000</td>\n",
              "      <td>0.777778</td>\n",
              "      <td>0.875000</td>\n",
              "      <td>9.0</td>\n",
              "      <td>31</td>\n",
              "      <td>9</td>\n",
              "      <td>7</td>\n",
              "    </tr>\n",
              "    <tr>\n",
              "      <th>Roach</th>\n",
              "      <td>0.000000</td>\n",
              "      <td>0.000000</td>\n",
              "      <td>0.000000</td>\n",
              "      <td>2.0</td>\n",
              "      <td>19</td>\n",
              "      <td>2</td>\n",
              "      <td>0</td>\n",
              "    </tr>\n",
              "    <tr>\n",
              "      <th>Whitefish</th>\n",
              "      <td>0.000000</td>\n",
              "      <td>0.000000</td>\n",
              "      <td>0.000000</td>\n",
              "      <td>2.0</td>\n",
              "      <td>6</td>\n",
              "      <td>2</td>\n",
              "      <td>0</td>\n",
              "    </tr>\n",
              "    <tr>\n",
              "      <th>Parkki</th>\n",
              "      <td>0.250000</td>\n",
              "      <td>1.000000</td>\n",
              "      <td>0.400000</td>\n",
              "      <td>1.0</td>\n",
              "      <td>10</td>\n",
              "      <td>1</td>\n",
              "      <td>4</td>\n",
              "    </tr>\n",
              "    <tr>\n",
              "      <th>Perch</th>\n",
              "      <td>0.538462</td>\n",
              "      <td>0.700000</td>\n",
              "      <td>0.608696</td>\n",
              "      <td>10.0</td>\n",
              "      <td>53</td>\n",
              "      <td>10</td>\n",
              "      <td>13</td>\n",
              "    </tr>\n",
              "    <tr>\n",
              "      <th>Pike</th>\n",
              "      <td>1.000000</td>\n",
              "      <td>0.750000</td>\n",
              "      <td>0.857143</td>\n",
              "      <td>4.0</td>\n",
              "      <td>16</td>\n",
              "      <td>4</td>\n",
              "      <td>3</td>\n",
              "    </tr>\n",
              "    <tr>\n",
              "      <th>Smelt</th>\n",
              "      <td>0.666667</td>\n",
              "      <td>1.000000</td>\n",
              "      <td>0.800000</td>\n",
              "      <td>2.0</td>\n",
              "      <td>12</td>\n",
              "      <td>2</td>\n",
              "      <td>3</td>\n",
              "    </tr>\n",
              "  </tbody>\n",
              "</table>\n",
              "</div>"
            ],
            "text/plain": [
              "           precision    recall  ...  Test true count  Test predicted count\n",
              "Bream       1.000000  0.777778  ...                9                     7\n",
              "Roach       0.000000  0.000000  ...                2                     0\n",
              "Whitefish   0.000000  0.000000  ...                2                     0\n",
              "Parkki      0.250000  1.000000  ...                1                     4\n",
              "Perch       0.538462  0.700000  ...               10                    13\n",
              "Pike        1.000000  0.750000  ...                4                     3\n",
              "Smelt       0.666667  1.000000  ...                2                     3\n",
              "\n",
              "[7 rows x 7 columns]"
            ]
          },
          "metadata": {
            "tags": []
          },
          "execution_count": 28
        }
      ]
    },
    {
      "cell_type": "code",
      "metadata": {
        "colab": {
          "base_uri": "https://localhost:8080/",
          "height": 425
        },
        "id": "OZCIfpCoCVAS",
        "outputId": "c107981f-4e8f-4561-c29a-0351d4c0883c"
      },
      "source": [
        "t[['ytest','yhat']] = t[['ytest','yhat']].replace(dict(zip(l_ints, species_names)))\n",
        "t.sort_values('ytest')"
      ],
      "execution_count": 29,
      "outputs": [
        {
          "output_type": "execute_result",
          "data": {
            "text/html": [
              "<div>\n",
              "<style scoped>\n",
              "    .dataframe tbody tr th:only-of-type {\n",
              "        vertical-align: middle;\n",
              "    }\n",
              "\n",
              "    .dataframe tbody tr th {\n",
              "        vertical-align: top;\n",
              "    }\n",
              "\n",
              "    .dataframe thead th {\n",
              "        text-align: right;\n",
              "    }\n",
              "</style>\n",
              "<table border=\"1\" class=\"dataframe\">\n",
              "  <thead>\n",
              "    <tr style=\"text-align: right;\">\n",
              "      <th></th>\n",
              "      <th>ytest</th>\n",
              "      <th>yhat</th>\n",
              "      <th>count</th>\n",
              "    </tr>\n",
              "  </thead>\n",
              "  <tbody>\n",
              "    <tr>\n",
              "      <th>0</th>\n",
              "      <td>Bream</td>\n",
              "      <td>Bream</td>\n",
              "      <td>7</td>\n",
              "    </tr>\n",
              "    <tr>\n",
              "      <th>1</th>\n",
              "      <td>Bream</td>\n",
              "      <td>Perch</td>\n",
              "      <td>2</td>\n",
              "    </tr>\n",
              "    <tr>\n",
              "      <th>5</th>\n",
              "      <td>Parkki</td>\n",
              "      <td>Parkki</td>\n",
              "      <td>1</td>\n",
              "    </tr>\n",
              "    <tr>\n",
              "      <th>6</th>\n",
              "      <td>Perch</td>\n",
              "      <td>Parkki</td>\n",
              "      <td>2</td>\n",
              "    </tr>\n",
              "    <tr>\n",
              "      <th>7</th>\n",
              "      <td>Perch</td>\n",
              "      <td>Perch</td>\n",
              "      <td>7</td>\n",
              "    </tr>\n",
              "    <tr>\n",
              "      <th>8</th>\n",
              "      <td>Perch</td>\n",
              "      <td>Smelt</td>\n",
              "      <td>1</td>\n",
              "    </tr>\n",
              "    <tr>\n",
              "      <th>9</th>\n",
              "      <td>Pike</td>\n",
              "      <td>Perch</td>\n",
              "      <td>1</td>\n",
              "    </tr>\n",
              "    <tr>\n",
              "      <th>10</th>\n",
              "      <td>Pike</td>\n",
              "      <td>Pike</td>\n",
              "      <td>3</td>\n",
              "    </tr>\n",
              "    <tr>\n",
              "      <th>2</th>\n",
              "      <td>Roach</td>\n",
              "      <td>Parkki</td>\n",
              "      <td>1</td>\n",
              "    </tr>\n",
              "    <tr>\n",
              "      <th>3</th>\n",
              "      <td>Roach</td>\n",
              "      <td>Perch</td>\n",
              "      <td>1</td>\n",
              "    </tr>\n",
              "    <tr>\n",
              "      <th>11</th>\n",
              "      <td>Smelt</td>\n",
              "      <td>Smelt</td>\n",
              "      <td>2</td>\n",
              "    </tr>\n",
              "    <tr>\n",
              "      <th>4</th>\n",
              "      <td>Whitefish</td>\n",
              "      <td>Perch</td>\n",
              "      <td>2</td>\n",
              "    </tr>\n",
              "  </tbody>\n",
              "</table>\n",
              "</div>"
            ],
            "text/plain": [
              "        ytest    yhat  count\n",
              "0       Bream   Bream      7\n",
              "1       Bream   Perch      2\n",
              "5      Parkki  Parkki      1\n",
              "6       Perch  Parkki      2\n",
              "7       Perch   Perch      7\n",
              "8       Perch   Smelt      1\n",
              "9        Pike   Perch      1\n",
              "10       Pike    Pike      3\n",
              "2       Roach  Parkki      1\n",
              "3       Roach   Perch      1\n",
              "11      Smelt   Smelt      2\n",
              "4   Whitefish   Perch      2"
            ]
          },
          "metadata": {
            "tags": []
          },
          "execution_count": 29
        }
      ]
    },
    {
      "cell_type": "markdown",
      "metadata": {
        "id": "BoFC3v8gM7UR"
      },
      "source": [
        "We found our only Parkki and both Smelts. We also found none of Roach or Whitefich species - they were labaled either as Perches or Parkki. All found Breams and Pikes are truly Breams and Pikes, but some of them were missslassified as Perches. Seems that model favors Perches, because it is the largest class in data."
      ]
    },
    {
      "cell_type": "code",
      "metadata": {
        "id": "vAlhRXJwL4KK"
      },
      "source": [
        ""
      ],
      "execution_count": 29,
      "outputs": []
    }
  ]
}